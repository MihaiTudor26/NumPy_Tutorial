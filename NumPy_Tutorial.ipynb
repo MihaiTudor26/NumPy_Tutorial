{
 "cells": [
  {
   "cell_type": "markdown",
   "id": "c6b4efd5",
   "metadata": {},
   "source": [
    "# NumPy Tutorial👨🏼‍🏫"
   ]
  },
  {
   "cell_type": "markdown",
   "id": "f7ad1a01",
   "metadata": {},
   "source": [
    "The goal of this repository is to provide an introduction in NumPy library. This library is used for working with arrays in domain of linear algebra, Fourier Transform and matrices.\n",
    "\n",
    "**Why use NumPy?**🕵🏼\n",
    "\n",
    "The answer to this question is very simple: Numpy gives us array objects that are much faster than traditional lists. This is because **ndarray** (array object) is stored in a continuous place in memory, unlike lists. Another important aspect is the fact that numpy arrays are containers of items of the same type in contrast to the list which can contain a mix of Python types including strings, floats, booleans, etc\n",
    "\n",
    "The following exemple confirms our assertion. We calculate the execution time when adding two lists and two arrays. We will compare the results obtained in the two situations."
   ]
  },
  {
   "cell_type": "code",
   "execution_count": 10,
   "id": "ccc1827f",
   "metadata": {},
   "outputs": [
    {
     "name": "stdout",
     "output_type": "stream",
     "text": [
      "Execution time (lists):  4.281202077865601\n",
      "Execution time (arrays):  0.06110978126525879\n"
     ]
    }
   ],
   "source": [
    "from time import*\n",
    "from numpy import*\n",
    "def add_lists():\n",
    "    t1=time()\n",
    "    x=range(10000000)\n",
    "    y=range(10000000)\n",
    "    z=[x[i]+y[i] for i in range(len(x))]\n",
    "    t2=time()\n",
    "    return t2-t1\n",
    "\n",
    "def add_arrays():\n",
    "    t1=time()\n",
    "    x=arange(10000000)\n",
    "    y=arange(10000000)\n",
    "    z=x+y\n",
    "    t2=time()\n",
    "    return t2-t1\n",
    "time_list=add_lists()\n",
    "time_array=add_arrays()\n",
    "print(\"Execution time (lists): \",time_list)\n",
    "print(\"Execution time (arrays): \",time_array)\n",
    "    "
   ]
  },
  {
   "cell_type": "markdown",
   "id": "6f242acc",
   "metadata": {},
   "source": [
    "The obtained results confirm the fact that arrays are much faster than lists"
   ]
  },
  {
   "cell_type": "markdown",
   "id": "847b1e60",
   "metadata": {},
   "source": [
    "**Creating Numpy Arrays**✏️\n",
    "\n",
    "The syntax of arange: _arange(start,stop,step)_"
   ]
  },
  {
   "cell_type": "code",
   "execution_count": 11,
   "id": "2c44503e",
   "metadata": {},
   "outputs": [
    {
     "name": "stdout",
     "output_type": "stream",
     "text": [
      "[1 2 3 4 5 6 7 8 9]\n",
      "[1.  1.5 2.  2.5 3.  3.5 4.  4.5 5.  5.5 6.  6.5 7.  7.5 8.  8.5 9.  9.5]\n"
     ]
    }
   ],
   "source": [
    "a=arange(1,10)\n",
    "print(a)#The default value for 'step' is 1\n",
    "b=arange(1,10,0.5)\n",
    "print(b)"
   ]
  },
  {
   "cell_type": "markdown",
   "id": "bf2842e8",
   "metadata": {},
   "source": [
    "A better alternative for the function _arange_ is _linspace_\n",
    "\n",
    "_The syntax of linspace: linspace(start, stop, num=50, endpoint=True/False)_\n",
    "\n",
    "Linspace returns an ndarray, consisting of 'num' equally spaced samples in the closed interval [start, stop]. "
   ]
  },
  {
   "cell_type": "code",
   "execution_count": 12,
   "id": "450d0879",
   "metadata": {},
   "outputs": [
    {
     "name": "stdout",
     "output_type": "stream",
     "text": [
      "[ 1.          1.18367347  1.36734694  1.55102041  1.73469388  1.91836735\n",
      "  2.10204082  2.28571429  2.46938776  2.65306122  2.83673469  3.02040816\n",
      "  3.20408163  3.3877551   3.57142857  3.75510204  3.93877551  4.12244898\n",
      "  4.30612245  4.48979592  4.67346939  4.85714286  5.04081633  5.2244898\n",
      "  5.40816327  5.59183673  5.7755102   5.95918367  6.14285714  6.32653061\n",
      "  6.51020408  6.69387755  6.87755102  7.06122449  7.24489796  7.42857143\n",
      "  7.6122449   7.79591837  7.97959184  8.16326531  8.34693878  8.53061224\n",
      "  8.71428571  8.89795918  9.08163265  9.26530612  9.44897959  9.63265306\n",
      "  9.81632653 10.        ]\n",
      "[ 1.          1.18367347  1.36734694  1.55102041  1.73469388  1.91836735\n",
      "  2.10204082  2.28571429  2.46938776  2.65306122  2.83673469  3.02040816\n",
      "  3.20408163  3.3877551   3.57142857  3.75510204  3.93877551  4.12244898\n",
      "  4.30612245  4.48979592  4.67346939  4.85714286  5.04081633  5.2244898\n",
      "  5.40816327  5.59183673  5.7755102   5.95918367  6.14285714  6.32653061\n",
      "  6.51020408  6.69387755  6.87755102  7.06122449  7.24489796  7.42857143\n",
      "  7.6122449   7.79591837  7.97959184  8.16326531  8.34693878  8.53061224\n",
      "  8.71428571  8.89795918  9.08163265  9.26530612  9.44897959  9.63265306\n",
      "  9.81632653 10.        ]\n",
      "[1.   1.18 1.36 1.54 1.72 1.9  2.08 2.26 2.44 2.62 2.8  2.98 3.16 3.34\n",
      " 3.52 3.7  3.88 4.06 4.24 4.42 4.6  4.78 4.96 5.14 5.32 5.5  5.68 5.86\n",
      " 6.04 6.22 6.4  6.58 6.76 6.94 7.12 7.3  7.48 7.66 7.84 8.02 8.2  8.38\n",
      " 8.56 8.74 8.92 9.1  9.28 9.46 9.64 9.82]\n",
      "[ 1.    3.25  5.5   7.75 10.  ]\n"
     ]
    }
   ],
   "source": [
    "print(linspace(1,10,endpoint=True))#50 values between 1 and 10\n",
    "print(linspace(1,10))#The default value for 'endpoint' is True\n",
    "print(linspace(1,10,endpoint=False))# excluding the endpoint\n",
    "print(linspace(1,10,5))#5 values between 1 and 10"
   ]
  },
  {
   "cell_type": "markdown",
   "id": "21c5d460",
   "metadata": {},
   "source": [
    "**Size of an Arrays in Numpy**✏️"
   ]
  },
  {
   "cell_type": "code",
   "execution_count": 13,
   "id": "e6afe7d7",
   "metadata": {},
   "outputs": [
    {
     "name": "stdout",
     "output_type": "stream",
     "text": [
      "x:  13\n",
      "The type of x:  <class 'numpy.ndarray'>\n",
      "The dimension of x: 0\n",
      "y:  [ 1  3  5  7  9 11 13 15 17 19]\n",
      "The type of y:  <class 'numpy.ndarray'>\n",
      "The dimension of y: 1\n",
      "z:  [[ 3.4  8.7  9.9]\n",
      " [ 1.1 -7.8 -0.7]\n",
      " [ 4.1 12.3  4.8]]\n",
      "The type of z:  <class 'numpy.ndarray'>\n",
      "The dimension of z: 2\n"
     ]
    }
   ],
   "source": [
    "x = array(13)\n",
    "print(\"x: \", x)\n",
    "print(\"The type of x: \", type(x))\n",
    "print(\"The dimension of x:\",ndim(x))#Scalars are zero dimensional.\n",
    "\n",
    "y=arange(1,20,2)\n",
    "print(\"y: \", y)\n",
    "print(\"The type of y: \", type(y))\n",
    "print(\"The dimension of y:\",ndim(y))#Vectors are a 1-dimenional. \n",
    "\n",
    "z = array([ [3.4, 8.7, 9.9], \n",
    "               [1.1, -7.8, -0.7],\n",
    "               [4.1, 12.3, 4.8]])\n",
    "print(\"z: \", z)\n",
    "print(\"The type of z: \", type(z))\n",
    "print(\"The dimension of z:\",ndim(z))#2-dimenional array. "
   ]
  },
  {
   "cell_type": "markdown",
   "id": "e0f4e416",
   "metadata": {},
   "source": [
    "**Shape of an Array**✏️\n",
    "\n",
    "The \"shape\" function returns a tuple with the number of elements per axis (dimension). In our example, the shape is equal to (5, 3), i.e. we have 5 lines and 3 columns."
   ]
  },
  {
   "cell_type": "code",
   "execution_count": 14,
   "id": "d027236e",
   "metadata": {},
   "outputs": [
    {
     "name": "stdout",
     "output_type": "stream",
     "text": [
      "(5, 3)\n"
     ]
    }
   ],
   "source": [
    "z = array([ [7, 63, 87],\n",
    "               [77, 9, 59],\n",
    "               [85, 7, 9],\n",
    "               [79, 72, 71],\n",
    "               [3, 89, 3]])\n",
    "\n",
    "print(shape(z))"
   ]
  },
  {
   "cell_type": "markdown",
   "id": "5f297566",
   "metadata": {},
   "source": [
    "The function \"shape\" can also be used to change the shape of an array."
   ]
  },
  {
   "cell_type": "code",
   "execution_count": 18,
   "id": "8e6c0616",
   "metadata": {},
   "outputs": [
    {
     "name": "stdout",
     "output_type": "stream",
     "text": [
      "z:  [[ 7 63 87 77  9]\n",
      " [59 85  7  9 79]\n",
      " [72 71  3 89  3]]\n",
      "The dimension of z:  (3, 5)\n"
     ]
    }
   ],
   "source": [
    "z.shape=(3,5)\n",
    "print(\"z: \",z)\n",
    "print(\"The dimension of z: \",shape(z))"
   ]
  },
  {
   "cell_type": "markdown",
   "id": "1174c2fe",
   "metadata": {},
   "source": [
    "**Indexing and Slicing**✏️"
   ]
  },
  {
   "cell_type": "markdown",
   "id": "c4988c52",
   "metadata": {},
   "source": [
    "Indexing one-dimensional arrays."
   ]
  },
  {
   "cell_type": "code",
   "execution_count": 20,
   "id": "d3ecd44f",
   "metadata": {},
   "outputs": [
    {
     "name": "stdout",
     "output_type": "stream",
     "text": [
      "v:  [ 1  4  7 10 13 16 19 22 25 28 31 34 37 40 43 46 49]\n",
      "The first element:  1\n",
      "The last element:  49\n"
     ]
    }
   ],
   "source": [
    "v=arange(1,50,3)\n",
    "print(\"v: \",v)\n",
    "print(\"The first element: \",v[0])\n",
    "print(\"The last element: \",v[-1])"
   ]
  },
  {
   "cell_type": "markdown",
   "id": "e68a50d3",
   "metadata": {},
   "source": [
    "Indexing multidimensional arrays.\n",
    "\n",
    "❗️ The first column has index 0. The first row has index 0."
   ]
  },
  {
   "cell_type": "code",
   "execution_count": 23,
   "id": "57e51f08",
   "metadata": {},
   "outputs": [
    {
     "name": "stdout",
     "output_type": "stream",
     "text": [
      "The element in first row and second column:  2\n"
     ]
    }
   ],
   "source": [
    "t=array([[1,2,3],\n",
    "        [0,7,8],\n",
    "        [4,5,6]])\n",
    "print(\"The element in first row and second column: \",t[0][1])"
   ]
  },
  {
   "cell_type": "markdown",
   "id": "528d974e",
   "metadata": {},
   "source": [
    "Slicing of a one-dimensional array."
   ]
  },
  {
   "cell_type": "code",
   "execution_count": 32,
   "id": "ce6c2041",
   "metadata": {},
   "outputs": [
    {
     "name": "stdout",
     "output_type": "stream",
     "text": [
      "p:  [1 9 0 3 6 7 5]\n",
      "[1 9 0]\n",
      "[0 3 6]\n",
      "[1 9 0 3 6 7 5]\n",
      "[3 6 7 5]\n"
     ]
    }
   ],
   "source": [
    "p=array([1,9,0,3,6,7,5])\n",
    "print(\"p: \",p)\n",
    "print(p[0:3])\n",
    "print(p[2:5])\n",
    "print(p[:])\n",
    "print(p[-4:])"
   ]
  },
  {
   "cell_type": "markdown",
   "id": "0c6b7745",
   "metadata": {},
   "source": [
    "Slicing of multidimensional array."
   ]
  },
  {
   "cell_type": "code",
   "execution_count": 44,
   "id": "4ab282ed",
   "metadata": {},
   "outputs": [
    {
     "name": "stdout",
     "output_type": "stream",
     "text": [
      "[[41 42 43 44 45]\n",
      " [51 52 53 54 55]]\n",
      "[[11 12 13 14 15]]\n",
      "[[51 52 53 54 55]]\n",
      "[[22 23]\n",
      " [32 33]]\n",
      "[[15]\n",
      " [25]\n",
      " [35]\n",
      " [45]\n",
      " [55]]\n"
     ]
    }
   ],
   "source": [
    "k=array([[11, 12, 13, 14, 15],\n",
    "            [21, 22, 23, 24, 25],\n",
    "            [31, 32, 33, 34, 35],\n",
    "            [41, 42, 43, 44, 45],\n",
    "            [51, 52, 53, 54, 55]])\n",
    "print(k[3:,0:])#the last two rows in the array\n",
    "print(k[0:1,0:])#the first row in the array\n",
    "print(k[-1:,0:])#the last row in the array\n",
    "print(k[1:3,1:3])\n",
    "print(k[:,4:])#the last column"
   ]
  },
  {
   "cell_type": "markdown",
   "id": "15118e0f",
   "metadata": {},
   "source": [
    "The reshape function is used to construct the two-dimensional array"
   ]
  },
  {
   "cell_type": "code",
   "execution_count": 46,
   "id": "2f97f7e7",
   "metadata": {},
   "outputs": [
    {
     "name": "stdout",
     "output_type": "stream",
     "text": [
      "Z:  [ 0  1  2  3  4  5  6  7  8  9 10 11]\n",
      "Z1:  [[ 0  1  2  3  4  5]\n",
      " [ 6  7  8  9 10 11]]\n",
      "Z2:  [[ 0  1  2  3]\n",
      " [ 4  5  6  7]\n",
      " [ 8  9 10 11]]\n"
     ]
    }
   ],
   "source": [
    "Z=arange(12)\n",
    "print(\"Z: \",Z)\n",
    "Z1=Z.reshape(2,6)\n",
    "print(\"Z1: \",Z1)\n",
    "Z2=Z.reshape(3,4)\n",
    "print(\"Z2: \",Z2)"
   ]
  },
  {
   "cell_type": "markdown",
   "id": "793dc42f",
   "metadata": {},
   "source": [
    "**Zeros method. Ones method. Identity method.**✏️"
   ]
  },
  {
   "cell_type": "code",
   "execution_count": 49,
   "id": "871a3fb7",
   "metadata": {},
   "outputs": [
    {
     "name": "stdout",
     "output_type": "stream",
     "text": [
      "E:  [[1. 1. 1.]\n",
      " [1. 1. 1.]\n",
      " [1. 1. 1.]]\n",
      "F:  [[0. 0.]\n",
      " [0. 0.]\n",
      " [0. 0.]]\n",
      "G:  [[1. 0. 0. 0.]\n",
      " [0. 1. 0. 0.]\n",
      " [0. 0. 1. 0.]\n",
      " [0. 0. 0. 1.]]\n"
     ]
    }
   ],
   "source": [
    "E=ones((3,3))#create an array with 3 columns and 3 rows and all elements equal to 1\n",
    "print(\"E: \",E)\n",
    "F=zeros((3,2))#create an array with 3 columns and 2 rows and all elements equal to 0\n",
    "print(\"F: \",F)\n",
    "G=identity(4)#create identity array\n",
    "print(\"G: \",G)"
   ]
  },
  {
   "cell_type": "markdown",
   "id": "86910fba",
   "metadata": {},
   "source": [
    "**Numerical Operations on Numpy Arrays**✏️"
   ]
  },
  {
   "cell_type": "markdown",
   "id": "481bcfd0",
   "metadata": {},
   "source": [
    "Adding / Subtraction scalars to arrays."
   ]
  },
  {
   "cell_type": "code",
   "execution_count": 52,
   "id": "76bf7e8d",
   "metadata": {},
   "outputs": [
    {
     "name": "stdout",
     "output_type": "stream",
     "text": [
      "[ 4.    5.    9.9   5.3   8.9   2.11 12.3  14.9 ]\n",
      "[ 0.    1.    5.9   1.3   4.9  -1.89  8.3  10.9 ]\n"
     ]
    }
   ],
   "source": [
    "L = array([2,3, 7.9, 3.3, 6.9, 0.11, 10.3, 12.9])\n",
    "L1= L + 2\n",
    "print(L1)\n",
    "L2=L-2\n",
    "print(L2)"
   ]
  },
  {
   "cell_type": "markdown",
   "id": "ea80cbf7",
   "metadata": {},
   "source": [
    "Multiplication / Division / Exponentiation to arrays."
   ]
  },
  {
   "cell_type": "code",
   "execution_count": 55,
   "id": "4e8525e8",
   "metadata": {},
   "outputs": [
    {
     "name": "stdout",
     "output_type": "stream",
     "text": [
      "Multiplication:  [ 8 12 28 12 24  0 40 48]\n",
      "Exponentiation:  [  4   9  49   9  36   0 100 144]\n",
      "Division:  [1.  1.5 3.5 1.5 3.  0.  5.  6. ]\n"
     ]
    }
   ],
   "source": [
    "L3 = array([2,3, 7, 3, 6, 0, 10, 12])\n",
    "print(\"Multiplication: \",L3*4)\n",
    "print(\"Exponentiation: \",L3**2)\n",
    "print(\"Division: \",L3/2)"
   ]
  },
  {
   "cell_type": "markdown",
   "id": "6c04c342",
   "metadata": {},
   "source": [
    "Arithmetic Operations with two Arrays."
   ]
  },
  {
   "cell_type": "code",
   "execution_count": 62,
   "id": "d43ce358",
   "metadata": {},
   "outputs": [
    {
     "name": "stdout",
     "output_type": "stream",
     "text": [
      "Multiplication:  [[0. 0. 0.]\n",
      " [0. 0. 0.]\n",
      " [0. 0. 0.]]\n",
      "Adding:  [[ 2.  2.  3.]\n",
      " [ 4.  6.  6.]\n",
      " [ 7.  8. 10.]]\n",
      "Matrix Multiplication:  [[ 4 19]\n",
      " [10 43]\n",
      " [16 67]]\n"
     ]
    }
   ],
   "source": [
    "A=zeros((3,3))\n",
    "B=identity(3)\n",
    "C=array([[1,2,3],\n",
    "   [4,5,6],\n",
    "   [7,8,9]])\n",
    "D=array([[1,2],\n",
    "   [0,1],\n",
    "   [1,5]])\n",
    "print(\"Multiplication: \",A*C)#The elements are solely component-wise multiplied.\n",
    "print(\"Adding: \",B+C)\n",
    "print(\"Matrix Multiplication: \",dot(C,D))#Matrix Multiplication\n"
   ]
  },
  {
   "cell_type": "markdown",
   "id": "13308623",
   "metadata": {},
   "source": [
    "\"Transpose\" method."
   ]
  },
  {
   "cell_type": "code",
   "execution_count": 63,
   "id": "5658c5cd",
   "metadata": {},
   "outputs": [
    {
     "name": "stdout",
     "output_type": "stream",
     "text": [
      "Transpose of the array:  [[1 0 1]\n",
      " [2 1 5]]\n"
     ]
    }
   ],
   "source": [
    "print(\"Transpose of the array: \",D.transpose())"
   ]
  },
  {
   "cell_type": "markdown",
   "id": "c0f4ff0d",
   "metadata": {},
   "source": [
    "Boolean Indexing"
   ]
  },
  {
   "cell_type": "code",
   "execution_count": 65,
   "id": "76303f92",
   "metadata": {},
   "outputs": [
    {
     "name": "stdout",
     "output_type": "stream",
     "text": [
      "[[ True  True  True  True]\n",
      " [ True  True  True  True]\n",
      " [ True  True  True  True]]\n",
      "[[False False False  True]\n",
      " [False False False False]\n",
      " [False False  True  True]]\n"
     ]
    }
   ],
   "source": [
    "Q=array([[42,56,89,65],\n",
    "        [99,88,42,12],\n",
    "        [55,42,17,18]])\n",
    "print(Q>10)\n",
    "R=array([[1,2,3,65],\n",
    "         [4,5,6,21],\n",
    "         [7,8,17,18]])\n",
    "print(Q==R)"
   ]
  },
  {
   "cell_type": "markdown",
   "id": "7cbc057a",
   "metadata": {},
   "source": [
    "**A simple application**⚡️\n",
    "\n",
    "We create a board, which consists of nine buttons stored in a two-dimensional list. When a button is clicked, a random number between (0,1) is generated."
   ]
  },
  {
   "cell_type": "code",
   "execution_count": 134,
   "id": "f8e61b85",
   "metadata": {},
   "outputs": [],
   "source": [
    "from tkinter import*\n",
    "from random import*\n",
    "def function(l,c):\n",
    "    for i in range(9):    \n",
    "        b[l][c].configure(text=str(round(random(),3)))\n",
    "\n",
    "gui=Tk()\n",
    "gui.title(\"RandomNumber\")\n",
    "gui.geometry(\"400x250\")\n",
    "b=[[0,0,0],\n",
    "   [0,0,0],\n",
    "   [0,0,0]]\n",
    "for i in range(3):\n",
    "    for j in range(3):\n",
    "        b[i][j]=Button(font=('Verdana',30),width=5,bg='yellow',command=lambda l=i,c=j:function(l,c))\n",
    "        b[i][j].grid(row=i,column=j)\n",
    "mainloop()"
   ]
  },
  {
   "cell_type": "code",
   "execution_count": null,
   "id": "abb576c4",
   "metadata": {},
   "outputs": [],
   "source": []
  }
 ],
 "metadata": {
  "kernelspec": {
   "display_name": "Python 3",
   "language": "python",
   "name": "python3"
  },
  "language_info": {
   "codemirror_mode": {
    "name": "ipython",
    "version": 3
   },
   "file_extension": ".py",
   "mimetype": "text/x-python",
   "name": "python",
   "nbconvert_exporter": "python",
   "pygments_lexer": "ipython3",
   "version": "3.9.12"
  }
 },
 "nbformat": 4,
 "nbformat_minor": 5
}
